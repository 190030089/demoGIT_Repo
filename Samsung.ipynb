{
  "nbformat": 4,
  "nbformat_minor": 0,
  "metadata": {
    "colab": {
      "name": "Samsung.ipynb",
      "provenance": [],
      "collapsed_sections": [],
      "mount_file_id": "1aCsYV03KE3E4e_ubcTHWjR9nSfxzUXHj",
      "authorship_tag": "ABX9TyNe86OZTc6yL5L10Pi7GSbZ",
      "include_colab_link": true
    },
    "kernelspec": {
      "name": "python3",
      "display_name": "Python 3"
    },
    "language_info": {
      "name": "python"
    }
  },
  "cells": [
    {
      "cell_type": "markdown",
      "metadata": {
        "id": "view-in-github",
        "colab_type": "text"
      },
      "source": [
        "<a href=\"https://colab.research.google.com/github/190030089/demoGIT_Repo/blob/master/Samsung.ipynb\" target=\"_parent\"><img src=\"https://colab.research.google.com/assets/colab-badge.svg\" alt=\"Open In Colab\"/></a>"
      ]
    },
    {
      "cell_type": "code",
      "metadata": {
        "id": "SPaW-iG4xrCL"
      },
      "source": [
        "import re\n",
        "import pandas as pd\n",
        "import bs4\n",
        "import requests\n",
        "import spacy\n",
        "from spacy import displacy\n",
        "nlp = spacy.load('en_core_web_sm')\n",
        "\n",
        "from nltk import word_tokenize, pos_tag\n",
        "\n",
        "from spacy.matcher import Matcher \n",
        "from spacy.tokens import Span \n",
        "\n",
        "import networkx as nx\n",
        "\n",
        "import matplotlib.pyplot as plt\n",
        "from tqdm import tqdm\n",
        "\n",
        "pd.set_option('display.max_colwidth', 200)\n",
        "%matplotlib inline\n",
        "\n",
        "nlp = spacy.load(\"en_core_web_sm\")"
      ],
      "execution_count": 1,
      "outputs": []
    },
    {
      "cell_type": "code",
      "metadata": {
        "colab": {
          "base_uri": "https://localhost:8080/"
        },
        "id": "BAU3EnXByKq0",
        "outputId": "d00ba1de-8209-4196-dbe2-c0eebb0edbbd"
      },
      "source": [
        "text = input(\"Enter the Query \");\n"
      ],
      "execution_count": 3,
      "outputs": [
        {
          "name": "stdout",
          "output_type": "stream",
          "text": [
            "Enter the Query my passport is in cupboard\n"
          ]
        }
      ]
    },
    {
      "cell_type": "code",
      "metadata": {
        "colab": {
          "base_uri": "https://localhost:8080/"
        },
        "id": "0_uv6svYyXAJ",
        "outputId": "bd961e8c-5de3-49a5-94c9-6462b252560c"
      },
      "source": [
        "doc = nlp(text)\n",
        "\n",
        "for tok in doc:\n",
        "  print(tok.text, \"...\", tok.dep_)"
      ],
      "execution_count": null,
      "outputs": [
        {
          "output_type": "stream",
          "text": [
            "my ... poss\n",
            "passport ... nsubj\n",
            "is ... ROOT\n",
            "in ... prep\n",
            "cupboard ... pobj\n"
          ],
          "name": "stdout"
        }
      ]
    },
    {
      "cell_type": "code",
      "metadata": {
        "id": "QsVgJ9HtyTuy"
      },
      "source": [
        "def get_entities(text):\n",
        "  \n",
        "  e=[]\n",
        "  s=\"\"\n",
        "  for tok in nlp(text):\n",
        "    #print(tok.dep_)\n",
        "    if(tok.dep_==\"compound\" or (\"subj\" in tok.dep_)or tok.dep_==\"attr\" or tok.dep_==\"amod\"  or (\"obj\" in tok.dep_) or tok.dep_==\"conj\" or (\"comp\" in tok.dep_) or (\"prep\" in tok.dep_)):\n",
        "      s=s+\" \"+tok.text;\n",
        "    if(tok.dep_==\"ROOT\"):\n",
        "      s=s.strip()\n",
        "      e.append(\" \"+s+\" \")\n",
        "      s=tok.text\n",
        "      s=s.strip()\n",
        "\n",
        "      e.append(\" \"+s+\" \")\n",
        "      s=\"\"\n",
        "  s=s.strip()\n",
        "  s=s.strip()\n",
        "  e.append(\" \"+s+\" \")\n",
        "  return e\n",
        "  \n",
        "# compund amod  subj obj\n",
        " \n"
      ],
      "execution_count": 223,
      "outputs": []
    },
    {
      "cell_type": "code",
      "metadata": {
        "id": "eSGWHpIDvrXE"
      },
      "source": [
        "def get_entities1(text):\n",
        "  e=[]\n",
        "  s=\"\"\n",
        "  b=False\n",
        "  for tok in nlp(text):\n",
        "    if b:\n",
        "      if (\"subj\" in tok.dep_)or tok.dep_==\"attr\" or tok.dep_==\"amod\"  or (\"obj\" in tok.dep_)  or (\"comp\" in tok.dep_):\n",
        "        e.append(tok.text)\n",
        "    if tok.dep_==\"ROOT\":\n",
        "      b=True\n",
        "  return e;\n",
        "\n"
      ],
      "execution_count": 150,
      "outputs": []
    },
    {
      "cell_type": "code",
      "metadata": {
        "id": "iUxeSkzGx_A7"
      },
      "source": [
        ""
      ],
      "execution_count": null,
      "outputs": []
    },
    {
      "cell_type": "code",
      "metadata": {
        "colab": {
          "base_uri": "https://localhost:8080/"
        },
        "id": "_ICtE7OW02jn",
        "outputId": "06e05939-dc1c-4237-9b49-bf83065b72d5"
      },
      "source": [
        "get_entities1(\"When is my Boss Birthday\")"
      ],
      "execution_count": 151,
      "outputs": [
        {
          "output_type": "execute_result",
          "data": {
            "text/plain": [
              "['Boss', 'Birthday']"
            ]
          },
          "metadata": {},
          "execution_count": 151
        }
      ]
    },
    {
      "cell_type": "code",
      "metadata": {
        "colab": {
          "base_uri": "https://localhost:8080/"
        },
        "id": "D-IIb_zD341N",
        "outputId": "b3c1f381-c4eb-4d22-9372-5e84c54f4f55"
      },
      "source": [
        "text1 = input(\"Enter the Query \");\n"
      ],
      "execution_count": null,
      "outputs": [
        {
          "output_type": "stream",
          "text": [
            "Enter the Query  rental car', 'is', ' red Toyota Camry Florida license plate'\n"
          ],
          "name": "stdout"
        }
      ]
    },
    {
      "cell_type": "code",
      "metadata": {
        "colab": {
          "base_uri": "https://localhost:8080/"
        },
        "id": "GhdDtl0O4Bxg",
        "outputId": "6ffe52c1-2f30-4259-88b1-d70794e2261e"
      },
      "source": [
        "get_entities(text1)"
      ],
      "execution_count": null,
      "outputs": [
        {
          "output_type": "execute_result",
          "data": {
            "text/plain": [
              "[' rental car', 'is', ' red Toyota Florida license', 'plate', '']"
            ]
          },
          "metadata": {},
          "execution_count": 50
        }
      ]
    },
    {
      "cell_type": "code",
      "metadata": {
        "colab": {
          "base_uri": "https://localhost:8080/"
        },
        "id": "sZLqoMFr4Jyo",
        "outputId": "abbb20ea-ad15-4d57-81c6-ae5175ee70eb"
      },
      "source": [
        "doc = nlp(\"passport\")\n",
        "\n",
        "for tok in doc:\n",
        "  print(tok.text, \"...\", tok.dep_)"
      ],
      "execution_count": 140,
      "outputs": [
        {
          "output_type": "stream",
          "name": "stdout",
          "text": [
            "passport ... ROOT\n"
          ]
        }
      ]
    },
    {
      "cell_type": "code",
      "metadata": {
        "id": "7Z49xbeMtXHV"
      },
      "source": [
        ""
      ],
      "execution_count": null,
      "outputs": []
    },
    {
      "cell_type": "code",
      "metadata": {
        "colab": {
          "base_uri": "https://localhost:8080/"
        },
        "id": "NDZuS7gJ8ryT",
        "outputId": "5937efa9-a405-4108-e16d-47e0ce4affec"
      },
      "source": [
        "doc = nlp(\"password is 1234\")\n",
        "\n",
        "for tok in doc:\n",
        "  print(tok.text, \"...\", tok.dep_)"
      ],
      "execution_count": null,
      "outputs": [
        {
          "output_type": "stream",
          "text": [
            "password ... nsubj\n",
            "is ... ROOT\n",
            "1234 ... attr\n"
          ],
          "name": "stdout"
        }
      ]
    },
    {
      "cell_type": "code",
      "metadata": {
        "id": "X8D_COzDj-Rb"
      },
      "source": [
        "total_count=0;"
      ],
      "execution_count": 229,
      "outputs": []
    },
    {
      "cell_type": "code",
      "metadata": {
        "id": "AESH0QYIkw3Y"
      },
      "source": [
        "dict0={}\n",
        "dict1={}"
      ],
      "execution_count": 230,
      "outputs": []
    },
    {
      "cell_type": "code",
      "metadata": {
        "id": "awxjfiHLlGi0"
      },
      "source": [
        "class Node:\n",
        "  id=0\n",
        "  text=\"\"\n",
        "  dep=\"\"\n",
        "  relation=\"\"\n",
        "  op_id=\"\"\n",
        "  op_text=\"\"\n",
        "  def __init__(self,id,text,relation,op_id,op_text):\n",
        "    self.id=id\n",
        "    self.text=text\n",
        "    self.op_id=op_id\n",
        "    self.op_text=op_text\n",
        "    self.relation=relation\n",
        "  def set_id(self,id):\n",
        "    self.id=id\n",
        "  def set_dep(self,dep):\n",
        "    self.dep=dep\n",
        "  def set_text(self,text):\n",
        "    self.text=text\n",
        "  def get_id(self):\n",
        "    return self.id\n",
        "  def get_dep(self):\n",
        "    return self.dep\n",
        "  def get_text(self):\n",
        "    return self.text\n",
        "  def get_relation(self):\n",
        "    return self.relation\n",
        "  def get_op_id(self):\n",
        "    return self.op_id\n",
        "  def get_op_text(self):\n",
        "    return self.op_text\n",
        "  def get_Full_Text(self):\n",
        "    return self.text+self.relation+self.op_text\n",
        "\n",
        "\n"
      ],
      "execution_count": 231,
      "outputs": []
    },
    {
      "cell_type": "code",
      "metadata": {
        "id": "pZOJoxibpBQ4"
      },
      "source": [
        "def check(text):\n",
        "  doc=nlp(text)\n",
        "  print(doc,\" hrrr \")\n",
        "  for tok in doc:\n",
        "    print(tok.text, \"...\", tok.dep_)\n",
        "    if ((\"subj\" in tok.dep_)or tok.dep_==\"attr\" or tok.dep_==\"amod\"  or (\"obj\" in tok.dep_)  or (\"comp\" in tok.dep_) ):\n",
        "      return True\n",
        "    else:\n",
        "      return False"
      ],
      "execution_count": 205,
      "outputs": []
    },
    {
      "cell_type": "code",
      "metadata": {
        "colab": {
          "base_uri": "https://localhost:8080/"
        },
        "id": "mdq_lP7rtYJz",
        "outputId": "6a578387-262b-4145-ff59-6db0e4cf80a2"
      },
      "source": [
        "check(\"Birthday\")"
      ],
      "execution_count": 146,
      "outputs": [
        {
          "output_type": "stream",
          "name": "stdout",
          "text": [
            "Birthday  hrrr \n",
            "Birthday ... ROOT\n"
          ]
        },
        {
          "output_type": "execute_result",
          "data": {
            "text/plain": [
              "False"
            ]
          },
          "metadata": {},
          "execution_count": 146
        }
      ]
    },
    {
      "cell_type": "code",
      "metadata": {
        "id": "3gYbpCQ7mrpr"
      },
      "source": [
        "def function(text):\n",
        "  if re.search('Remember', text, flags=re.IGNORECASE):\n",
        "    print(text)\n",
        "    text=text.replace(\"Remember\",\"\")\n",
        "    #print(text)\n",
        "    text=text.strip()\n",
        "   # doc = nlp(text)\n",
        "\n",
        "   # for tok in doc:\n",
        "      #print(tok.text, \"...\", tok.dep_)\n",
        "    t=get_entities(text)\n",
        "    print(t)\n",
        "    global total_count\n",
        "    a=total_count\n",
        "    b=total_count+1\n",
        "    x=Node(a,t[0],t[1],b,t[2])\n",
        "    y=Node(b,t[2],t[1],a,t[0])\n",
        "    dict0[a]=x\n",
        "    dict0[b]=y\n",
        "    total_count=total_count+2\n",
        "  else:\n",
        "    result=set()\n",
        "    for i in result:\n",
        "        print(i)\n",
        "    t=get_entities1(text)\n",
        "    for i in dict0.keys():\n",
        "      te=dict0[i]\n",
        "      id=te.get_id()\n",
        "      text1=te.get_text().strip()\n",
        "      text2=te.get_relation().strip()\n",
        "      text3=te.get_op_text().strip()\n",
        "      #print(text+\" hello \")\n",
        "      temp=True\n",
        "      temp2=False\n",
        "      for x in t:\n",
        "        if re.search(x, text1, flags=re.IGNORECASE) or re.search(x, text2, flags=re.IGNORECASE) or re.search(x, text3, flags=re.IGNORECASE):\n",
        "          continue\n",
        "        else:\n",
        "          temp=False\n",
        "          break\n",
        "      if temp:\n",
        "        temp2=True\n",
        "        result.add(text1+\" \"+text2+\" \"+text3)\n",
        "        break\n",
        "    if temp2:\n",
        "      print(\"The possible matching data available\")\n",
        "      for i in result:\n",
        "        i=i.strip()\n",
        "        print(i.capitalize())\n",
        "      result.clear()\n",
        "\n",
        "    \n",
        "      \n",
        "\n",
        "\n"
      ],
      "execution_count": 232,
      "outputs": []
    },
    {
      "cell_type": "code",
      "metadata": {
        "colab": {
          "base_uri": "https://localhost:8080/"
        },
        "id": "oFcpAGozlsh3",
        "outputId": "14d89129-dd48-47d5-b498-a7a0da633906"
      },
      "source": [
        "function(\"Who is the President of Russia\")"
      ],
      "execution_count": 234,
      "outputs": [
        {
          "output_type": "stream",
          "name": "stdout",
          "text": [
            "The possible matching data available\n",
            "President of russia is puttin\n"
          ]
        }
      ]
    },
    {
      "cell_type": "code",
      "metadata": {
        "colab": {
          "base_uri": "https://localhost:8080/"
        },
        "id": "VkM7Ite0r31r",
        "outputId": "0839e9cb-82c6-4ceb-fd64-8e0ab801936c"
      },
      "source": [
        "function(\"Remember President of Russia is Puttin\")"
      ],
      "execution_count": 233,
      "outputs": [
        {
          "output_type": "stream",
          "name": "stdout",
          "text": [
            "Remember President of Russia is Puttin\n",
            "[' President of Russia ', ' is ', ' Puttin ']\n"
          ]
        }
      ]
    },
    {
      "cell_type": "code",
      "metadata": {
        "colab": {
          "base_uri": "https://localhost:8080/"
        },
        "id": "1Xlw6PEtsAVP",
        "outputId": "5c924b36-5fec-4b43-b672-9a8024d07837"
      },
      "source": [
        "for i in dict0:\n",
        "  x=dict0[i]\n",
        "  print(x.get_Full_Text())\n",
        "  print(i, x.get_text())"
      ],
      "execution_count": 210,
      "outputs": [
        {
          "output_type": "stream",
          "name": "stdout",
          "text": [
            "  President of Russia  is   Puttin \n",
            "0   President of Russia \n",
            "  Puttin  is   President of Russia \n",
            "1   Puttin \n"
          ]
        }
      ]
    },
    {
      "cell_type": "code",
      "metadata": {
        "colab": {
          "base_uri": "https://localhost:8080/"
        },
        "id": "C717AwvaznS-",
        "outputId": "54a13232-1c19-406d-d59f-62011f260c2e"
      },
      "source": [
        "for i in dict1:\n",
        "  x=dict1[i]\n",
        "  print(i,x[0].get_text(),x[1].get_text())"
      ],
      "execution_count": 173,
      "outputs": [
        {
          "output_type": "stream",
          "name": "stdout",
          "text": [
            "0  is    Puttin \n",
            "2  is    President of Russia \n"
          ]
        }
      ]
    },
    {
      "cell_type": "code",
      "metadata": {
        "colab": {
          "base_uri": "https://localhost:8080/"
        },
        "id": "gR3huKNssm0h",
        "outputId": "2f531bb2-ea3f-4d63-ebf8-d5e623322576"
      },
      "source": [
        "doc = nlp(\"What is in my cupboard\")\n",
        "\n",
        "for tok in doc:\n",
        "  print(tok.text, \"...\", tok.dep_)"
      ],
      "execution_count": 16,
      "outputs": [
        {
          "output_type": "stream",
          "name": "stdout",
          "text": [
            "What ... nsubj\n",
            "is ... ROOT\n",
            "in ... prep\n",
            "my ... poss\n",
            "cupboard ... pobj\n"
          ]
        }
      ]
    },
    {
      "cell_type": "code",
      "metadata": {
        "colab": {
          "base_uri": "https://localhost:8080/"
        },
        "id": "-bMJKZvtoiW7",
        "outputId": "6a2283ed-54a3-4fc9-8b33-d95e8fd80a6d"
      },
      "source": [
        "doc = nlp(\"When is the Birthday of my Boss\")\n",
        "\n",
        "for tok in doc:\n",
        "  print(tok.text, \"...\", tok.dep_)"
      ],
      "execution_count": 107,
      "outputs": [
        {
          "output_type": "stream",
          "name": "stdout",
          "text": [
            "When ... advmod\n",
            "is ... ROOT\n",
            "the ... det\n",
            "Birthday ... nsubj\n",
            "of ... prep\n",
            "my ... poss\n",
            "Boss ... pobj\n"
          ]
        }
      ]
    },
    {
      "cell_type": "code",
      "metadata": {
        "colab": {
          "base_uri": "https://localhost:8080/"
        },
        "id": "ttzN65_HouDq",
        "outputId": "d8b20740-00e6-460b-aa05-19c0a2498c88"
      },
      "source": [
        "get_entities(\"When is the Birthday of my Boss\")"
      ],
      "execution_count": 108,
      "outputs": [
        {
          "output_type": "execute_result",
          "data": {
            "text/plain": [
              "['  ', ' is ', '  Birthday of Boss ']"
            ]
          },
          "metadata": {},
          "execution_count": 108
        }
      ]
    },
    {
      "cell_type": "code",
      "metadata": {
        "colab": {
          "base_uri": "https://localhost:8080/"
        },
        "id": "vpyZXYmueYkt",
        "outputId": "d58557da-5e5c-44b1-b079-bb190741f5b5"
      },
      "source": [
        "get_entities(\"What is in my cupboard\")"
      ],
      "execution_count": 116,
      "outputs": [
        {
          "output_type": "execute_result",
          "data": {
            "text/plain": [
              "['  What ', ' is ', '  in cupboard ']"
            ]
          },
          "metadata": {},
          "execution_count": 116
        }
      ]
    },
    {
      "cell_type": "code",
      "metadata": {
        "colab": {
          "base_uri": "https://localhost:8080/"
        },
        "id": "ZODU56q8s01h",
        "outputId": "d8ee63c6-aad0-4517-b5e4-0e1f7e6a7eda"
      },
      "source": [
        "function(\"Who is the president of Russia\")"
      ],
      "execution_count": 117,
      "outputs": [
        {
          "output_type": "stream",
          "name": "stdout",
          "text": [
            "The possible matching data available\n",
            "  President of Russia  is   Puttin \n"
          ]
        }
      ]
    },
    {
      "cell_type": "code",
      "metadata": {
        "colab": {
          "base_uri": "https://localhost:8080/"
        },
        "id": "Ikbyq2hsx8DV",
        "outputId": "d42f885a-f404-4610-e866-1db49cfeeb7a"
      },
      "source": [
        "function(\"Remember my passport is in cupboard\")"
      ],
      "execution_count": 213,
      "outputs": [
        {
          "output_type": "stream",
          "name": "stdout",
          "text": [
            "Remember my passport is in cupboard\n",
            "['  passport ', ' is ', '  in cupboard ']\n"
          ]
        }
      ]
    },
    {
      "cell_type": "code",
      "metadata": {
        "colab": {
          "base_uri": "https://localhost:8080/"
        },
        "id": "2RvBcEqizAEO",
        "outputId": "5a79ded2-c54b-40d6-a4f3-a14fc3faa877"
      },
      "source": [
        "function(\"Where is my passport\")"
      ],
      "execution_count": 214,
      "outputs": [
        {
          "output_type": "stream",
          "name": "stdout",
          "text": [
            "The possible matching data available\n",
            "  passport  is   in cupboard \n"
          ]
        }
      ]
    },
    {
      "cell_type": "code",
      "metadata": {
        "colab": {
          "base_uri": "https://localhost:8080/"
        },
        "id": "nuXvGah7zGDl",
        "outputId": "342acb6a-f365-434f-8a78-d0b9c221d12d"
      },
      "source": [
        "for i in dict0:\n",
        "  x=dict0[i]\n",
        "  print(i, x.get_text())"
      ],
      "execution_count": null,
      "outputs": [
        {
          "output_type": "stream",
          "text": [
            "0  boss birthday\n",
            "1 is\n",
            "2  4th August\n"
          ],
          "name": "stdout"
        }
      ]
    },
    {
      "cell_type": "code",
      "metadata": {
        "colab": {
          "base_uri": "https://localhost:8080/"
        },
        "id": "pRaUApJt2egS",
        "outputId": "31a31865-3ae2-4bac-c392-7f5d3cabb102"
      },
      "source": [
        "function(\"Remember my boss birthday is on 4th August\")"
      ],
      "execution_count": 215,
      "outputs": [
        {
          "output_type": "stream",
          "name": "stdout",
          "text": [
            "Remember my boss birthday is on 4th August\n",
            "['  boss birthday ', ' is ', '  on 4th August ']\n"
          ]
        }
      ]
    },
    {
      "cell_type": "code",
      "metadata": {
        "colab": {
          "base_uri": "https://localhost:8080/"
        },
        "id": "d9W5qmpY2pdX",
        "outputId": "0778b0d1-5a6f-4db3-9615-959d1621454a"
      },
      "source": [
        "function(\"When is the Birthday of my Boss\")"
      ],
      "execution_count": 226,
      "outputs": [
        {
          "output_type": "stream",
          "name": "stdout",
          "text": [
            "The possible matching data available\n",
            "Boss birthday  is   on 4th august\n"
          ]
        }
      ]
    },
    {
      "cell_type": "code",
      "metadata": {
        "colab": {
          "base_uri": "https://localhost:8080/"
        },
        "id": "xOCAx_GAAkat",
        "outputId": "ccaeacd2-844b-4776-c439-e28c54d9dd08"
      },
      "source": [
        "get_entities1(\"When is the Birthday of my Boss\")"
      ],
      "execution_count": 225,
      "outputs": [
        {
          "output_type": "execute_result",
          "data": {
            "text/plain": [
              "['Birthday', 'Boss']"
            ]
          },
          "metadata": {},
          "execution_count": 225
        }
      ]
    },
    {
      "cell_type": "code",
      "metadata": {
        "colab": {
          "base_uri": "https://localhost:8080/"
        },
        "id": "29Kk6QKw3SXe",
        "outputId": "55eeeda5-1ce3-4c2b-87dd-1ed1004424fe"
      },
      "source": [
        "get_entities(\"my boss birthday is on 4th August\")"
      ],
      "execution_count": null,
      "outputs": [
        {
          "output_type": "execute_result",
          "data": {
            "text/plain": [
              "[' boss birthday', 'is', ' 4th August']"
            ]
          },
          "metadata": {},
          "execution_count": 130
        }
      ]
    },
    {
      "cell_type": "code",
      "metadata": {
        "colab": {
          "base_uri": "https://localhost:8080/"
        },
        "id": "X2xVR-hu6Nmj",
        "outputId": "1d09f8da-584f-4d76-d0bd-13017f9136ea"
      },
      "source": [
        "function(\" Remember that John likes dark chocolates.\")"
      ],
      "execution_count": null,
      "outputs": [
        {
          "output_type": "stream",
          "text": [
            " Remember that John likes dark chocolates.\n",
            "[' John', 'likes', ' dark chocolates']\n"
          ],
          "name": "stdout"
        }
      ]
    },
    {
      "cell_type": "code",
      "metadata": {
        "colab": {
          "base_uri": "https://localhost:8080/"
        },
        "id": "DkO-EcwS6SSI",
        "outputId": "331b3ceb-e562-41d1-8bfa-1f04880c67eb"
      },
      "source": [
        "function(\"What does John Likes\")"
      ],
      "execution_count": null,
      "outputs": [
        {
          "output_type": "stream",
          "text": [
            "The possible matching data available\n",
            " John likes  dark chocolates\n"
          ],
          "name": "stdout"
        }
      ]
    },
    {
      "cell_type": "code",
      "metadata": {
        "colab": {
          "base_uri": "https://localhost:8080/"
        },
        "id": "qjLXdxkz6WEI",
        "outputId": "8eed403a-c357-4599-e3c5-a8b39de310b6"
      },
      "source": [
        "function(\"Do you know what John Likes\")"
      ],
      "execution_count": null,
      "outputs": [
        {
          "output_type": "stream",
          "text": [
            "The possible matching data available\n",
            " John likes  dark chocolates\n"
          ],
          "name": "stdout"
        }
      ]
    },
    {
      "cell_type": "code",
      "metadata": {
        "colab": {
          "base_uri": "https://localhost:8080/"
        },
        "id": "u-J69kHw7UCL",
        "outputId": "7a0a51a9-9624-41f6-c47b-bc42dbc494c4"
      },
      "source": [
        "function(\"Remember my passport is in cupboard\")"
      ],
      "execution_count": null,
      "outputs": [
        {
          "output_type": "stream",
          "text": [
            "Remember my passport is in cupboard\n",
            "[' passport', 'is', ' in cupboard']\n"
          ],
          "name": "stdout"
        }
      ]
    },
    {
      "cell_type": "code",
      "metadata": {
        "colab": {
          "base_uri": "https://localhost:8080/"
        },
        "id": "u83Selvr7aQM",
        "outputId": "f90bfb35-ae87-4069-8016-db3c6ec9cb27"
      },
      "source": [
        "function(\"Where is my passport\")"
      ],
      "execution_count": null,
      "outputs": [
        {
          "output_type": "stream",
          "text": [
            "The possible matching data available\n",
            " passport is  cupboard\n",
            " passport is  in cupboard\n"
          ],
          "name": "stdout"
        }
      ]
    },
    {
      "cell_type": "code",
      "metadata": {
        "id": "5uUTu0oW7ijx"
      },
      "source": [
        ""
      ],
      "execution_count": null,
      "outputs": []
    }
  ]
}